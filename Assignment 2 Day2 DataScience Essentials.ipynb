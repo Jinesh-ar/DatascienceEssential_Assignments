{
 "cells": [
  {
   "cell_type": "markdown",
   "metadata": {},
   "source": [
    "# Answer for qn no. 1"
   ]
  },
  {
   "cell_type": "code",
   "execution_count": 10,
   "metadata": {},
   "outputs": [
    {
     "name": "stdout",
     "output_type": "stream",
     "text": [
      "Enter the 10 numbers :\n",
      "1\n",
      "2\n",
      "3\n",
      "4\n",
      "5\n",
      "6\n",
      "7\n",
      "8\n",
      "9\n",
      "10\n",
      "[2, 4, 6, 8, 10]\n"
     ]
    }
   ],
   "source": [
    "list1=[]\n",
    "print(\"Enter the 10 numbers :\")\n",
    "for i in range(10):\n",
    "    number=int(input())\n",
    "    if number%2 ==0:\n",
    "         list1.append(number)\n",
    "print(list1)\n",
    "    \n",
    "    "
   ]
  },
  {
   "cell_type": "markdown",
   "metadata": {},
   "source": [
    "# 2) List Comprehension"
   ]
  },
  {
   "cell_type": "code",
   "execution_count": null,
   "metadata": {},
   "outputs": [],
   "source": [
    "# list comprehension "
   ]
  },
  {
   "cell_type": "code",
   "execution_count": 11,
   "metadata": {},
   "outputs": [
    {
     "name": "stdout",
     "output_type": "stream",
     "text": [
      "[1, 2, 3, 4, 5]\n"
     ]
    }
   ],
   "source": [
    "#suppose we have an array a\n",
    "a= [1,2,3,4,]\n",
    "# if we want to add an element in this array we can use a function called \"append()\"\n",
    "# adding elemet '5' to a \n",
    "a.append(5)\n",
    "print(a)"
   ]
  },
  {
   "cell_type": "code",
   "execution_count": 12,
   "metadata": {},
   "outputs": [
    {
     "name": "stdout",
     "output_type": "stream",
     "text": [
      "[2, 4, 6, 8]\n"
     ]
    }
   ],
   "source": [
    "# and if we want to create an array b = [2,4,6,9,10] from a= [1,2,3,4,]\n",
    "# we can use the same append() function here\n",
    "a= [1,2,3,4,]\n",
    "b=[]\n",
    "for x in a:\n",
    "    b.append(x*2)\n",
    "print(b)"
   ]
  },
  {
   "cell_type": "code",
   "execution_count": 13,
   "metadata": {},
   "outputs": [
    {
     "name": "stdout",
     "output_type": "stream",
     "text": [
      "[2, 4, 6, 8]\n"
     ]
    }
   ],
   "source": [
    "# we can perform this operation with list comprehension\n",
    "# for example if we want to create the same list [2,4,6,9,10] from a= [1,2,3,4,]\n",
    "a= [1,2,3,4,]\n",
    "d=[]\n",
    "d=[x*2 for x in a]\n",
    "print(d)"
   ]
  },
  {
   "cell_type": "code",
   "execution_count": 14,
   "metadata": {},
   "outputs": [],
   "source": [
    "# the list comprehension methid is more symple in syntex and easy to code."
   ]
  },
  {
   "cell_type": "markdown",
   "metadata": {},
   "source": [
    "# Answer for qn no. 3"
   ]
  },
  {
   "cell_type": "code",
   "execution_count": 15,
   "metadata": {},
   "outputs": [
    {
     "name": "stdout",
     "output_type": "stream",
     "text": [
      "enter n4\n",
      "{1: 1, 2: 4, 3: 9, 4: 16}\n"
     ]
    }
   ],
   "source": [
    "#given a number n, you have to write a program that generates a dictionary d \n",
    "#which contains (i, i*i), where i is from 1 to n (both included).\n",
    "\n",
    "n=int(input(\"enter n\"))\n",
    "square_dict = {i: i*i for i in range(1,n+1)}\n",
    "print(square_dict)"
   ]
  },
  {
   "cell_type": "markdown",
   "metadata": {},
   "source": [
    "# Answer for qn no. 4"
   ]
  },
  {
   "cell_type": "code",
   "execution_count": 2,
   "metadata": {},
   "outputs": [
    {
     "name": "stdout",
     "output_type": "stream",
     "text": [
      "Enter Number of Directions 4\n",
      "Enter direction UP/DOWN/LEFT/RIGHT spaced stepsUP 5\n",
      "Enter direction UP/DOWN/LEFT/RIGHT spaced stepsDOWN 3\n",
      "Enter direction UP/DOWN/LEFT/RIGHT spaced stepsLEFT 3\n",
      "Enter direction UP/DOWN/LEFT/RIGHT spaced stepsRIGHT 2\n",
      "2\n"
     ]
    }
   ],
   "source": [
    "#Write a program to compute the distance between the current position after\n",
    "#a sequence of movement and original point.\n",
    "\n",
    "import math\n",
    "pos=[0,0]\n",
    "moves={\"UP\":[0,1],\n",
    "       \"DOWN\":[0,-1],\n",
    "       \"LEFT\":[-1,0],\n",
    "       \"RIGHT\":[1,0]}\n",
    "n=int(input(\"Enter Number of Directions \"))\n",
    "data=[ input(\"Enter Direction UP/DOWN/LEFT/RIGHT spaced steps\") for i in range(n)]\n",
    "\n",
    "for inp in data:\n",
    "    parts=inp.split()    \n",
    "    mv=parts[0]\n",
    "    val=parts[1]\n",
    "    if mv in moves and val.isnumeric():\n",
    "        pos[0] += moves[mv][0]*int(val)\n",
    "        pos[1] += moves[mv][1]*int(val)\n",
    "    \n",
    "distance=math.sqrt(pos[0]**2 + pos[1]**2)\n",
    "print(round(distance))"
   ]
  },
  {
   "cell_type": "code",
   "execution_count": null,
   "metadata": {},
   "outputs": [],
   "source": []
  }
 ],
 "metadata": {
  "kernelspec": {
   "display_name": "Python 3",
   "language": "python",
   "name": "python3"
  },
  "language_info": {
   "codemirror_mode": {
    "name": "ipython",
    "version": 3
   },
   "file_extension": ".py",
   "mimetype": "text/x-python",
   "name": "python",
   "nbconvert_exporter": "python",
   "pygments_lexer": "ipython3",
   "version": "3.8.3"
  }
 },
 "nbformat": 4,
 "nbformat_minor": 4
}
