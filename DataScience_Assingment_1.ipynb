{
 "cells": [
  {
   "cell_type": "code",
   "execution_count": null,
   "metadata": {},
   "outputs": [],
   "source": [
    "# answer to the first question of the assignment 1 is\n",
    "# RAINBOW"
   ]
  },
  {
   "cell_type": "code",
   "execution_count": 1,
   "metadata": {},
   "outputs": [
    {
     "name": "stdout",
     "output_type": "stream",
     "text": [
      "LETSUPGRADE\n"
     ]
    }
   ],
   "source": [
    "#answer to second question \n",
    "string='Letsupgrade'\n",
    "print(string.upper())"
   ]
  },
  {
   "cell_type": "code",
   "execution_count": 2,
   "metadata": {},
   "outputs": [
    {
     "name": "stdout",
     "output_type": "stream",
     "text": [
      "Enter cost price 23\n",
      "Enter selling price 7\n",
      "Lose\n"
     ]
    }
   ],
   "source": [
    "#answer to third question \n",
    "c=int(input(\"Enter cost price \"))\n",
    "s=int(input(\"Enter selling price \"))\n",
    "if (c>s):\n",
    "     print(\"Lose\")\n",
    "elif (s>c):\n",
    "    print(\"profit\")\n",
    "else :\n",
    "     print(\"neither\")"
   ]
  },
  {
   "cell_type": "code",
   "execution_count": 3,
   "metadata": {},
   "outputs": [
    {
     "name": "stdout",
     "output_type": "stream",
     "text": [
      "enter amount in euro :95\n",
      "7600\n"
     ]
    }
   ],
   "source": [
    "#answer to fourth question \n",
    "euro=int(input(\"enter amount in euro :\"))\n",
    "rupees=0\n",
    "rupees=euro*80\n",
    "print (rupees)"
   ]
  },
  {
   "cell_type": "code",
   "execution_count": null,
   "metadata": {},
   "outputs": [],
   "source": []
  }
 ],
 "metadata": {
  "kernelspec": {
   "display_name": "Python 3",
   "language": "python",
   "name": "python3"
  },
  "language_info": {
   "codemirror_mode": {
    "name": "ipython",
    "version": 3
   },
   "file_extension": ".py",
   "mimetype": "text/x-python",
   "name": "python",
   "nbconvert_exporter": "python",
   "pygments_lexer": "ipython3",
   "version": "3.8.3"
  }
 },
 "nbformat": 4,
 "nbformat_minor": 4
}
