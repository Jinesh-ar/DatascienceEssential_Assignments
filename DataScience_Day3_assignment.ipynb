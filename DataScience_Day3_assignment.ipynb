{
 "cells": [
  {
   "cell_type": "markdown",
   "metadata": {},
   "source": [
    "# Answer to Qn no. 1"
   ]
  },
  {
   "cell_type": "code",
   "execution_count": 1,
   "metadata": {},
   "outputs": [
    {
     "name": "stdout",
     "output_type": "stream",
     "text": [
      "[ 2  5  8 11 14 17 20 23 26 29 32 35 38 41 44 47]\n"
     ]
    }
   ],
   "source": [
    "#Create a numpy array starting from 2 till 50 with a stepsize of 3.\n",
    "import numpy\n",
    "sample = numpy.array([i for i in range(2,50,3)])\n",
    "print(sample)\n",
    "\n",
    "\n"
   ]
  },
  {
   "cell_type": "code",
   "execution_count": 2,
   "metadata": {},
   "outputs": [
    {
     "name": "stdout",
     "output_type": "stream",
     "text": [
      "[ 2  5  8 11 14 17 20 23 26 29 32 35 38 41 44 47 50]\n"
     ]
    }
   ],
   "source": [
    "# sample 2 including 50\n",
    "import numpy\n",
    "sample2 = numpy.array([i for i in range(2,51,3)])\n",
    "print(sample2)"
   ]
  },
  {
   "cell_type": "markdown",
   "metadata": {},
   "source": [
    "# Answer to Qn no. 2"
   ]
  },
  {
   "cell_type": "code",
   "execution_count": 5,
   "metadata": {},
   "outputs": [
    {
     "name": "stdout",
     "output_type": "stream",
     "text": [
      "<built-in method sort of numpy.ndarray object at 0x00000237CA5D6C10>\n"
     ]
    }
   ],
   "source": [
    "import numpy\n",
    "from numpy import concatenate, sort\n",
    "a=[1,2,3,4]\n",
    "b=[5,6,7,8]\n",
    "c = concatenate((a,b))\n",
    "c.sort(kind='mergesort') \n",
    "print(c.sort)"
   ]
  },
  {
   "cell_type": "code",
   "execution_count": 4,
   "metadata": {
    "scrolled": true
   },
   "outputs": [
    {
     "name": "stdout",
     "output_type": "stream",
     "text": [
      "Enter 5 elements of list 1 :2\n",
      "Enter 5 elements of list 1 :4\n",
      "Enter 5 elements of list 1 :5\n",
      "Enter 5 elements of list 1 :6\n",
      "Enter 5 elements of list 1 :7\n",
      "Enter 5 elements of list 2 :1\n",
      "Enter 5 elements of list 2 :2\n",
      "Enter 5 elements of list 2 :3\n",
      "Enter 5 elements of list 2 :4\n",
      "Enter 5 elements of list 2 :5\n",
      "[['2' '1']\n",
      " ['4' '2']\n",
      " ['5' '3']\n",
      " ['6' '4']\n",
      " ['7' '5']]\n"
     ]
    }
   ],
   "source": [
    "import numpy as np\n",
    "\n",
    "arr1 = np.array([input(\"Enter 5 elements of list 1 :\") for i in range (5)])\n",
    "\n",
    "arr2 = np.array([input(\"Enter 5 elements of list 2 :\") for i in range (5)])\n",
    "\n",
    "arr = np.stack((arr1, arr2), axis=1)\n",
    "\n",
    "print(arr)"
   ]
  },
  {
   "cell_type": "markdown",
   "metadata": {},
   "source": [
    "# Answer to Qn. No 3"
   ]
  },
  {
   "cell_type": "code",
   "execution_count": 9,
   "metadata": {},
   "outputs": [
    {
     "name": "stdout",
     "output_type": "stream",
     "text": [
      "(2, 3)\n"
     ]
    }
   ],
   "source": [
    "#dimension of numpy array\n",
    "arr = np.array( [[ 1, 2, 3],\n",
    "                 [ 4, 2, 5]] )\n",
    "print(arr.shape)"
   ]
  },
  {
   "cell_type": "markdown",
   "metadata": {},
   "source": [
    "# Answer to Qn. No 4"
   ]
  },
  {
   "cell_type": "code",
   "execution_count": 11,
   "metadata": {},
   "outputs": [
    {
     "name": "stdout",
     "output_type": "stream",
     "text": [
      "1D Numpy array:\n",
      "[0 1 2 3 4 5 6 7 8 9]\n"
     ]
    }
   ],
   "source": [
    "# consider the one dimensional orray [0, 1, 2, 3, 4, 5, 6, 7, 8, 9]\n",
    "arr = np.array([0, 1, 2, 3, 4, 5, 6, 7, 8, 9])\n",
    "print('1D Numpy array:')\n",
    "print(arr)\n"
   ]
  },
  {
   "cell_type": "code",
   "execution_count": 14,
   "metadata": {},
   "outputs": [
    {
     "data": {
      "text/plain": [
       "array([[0, 1, 2, 3, 4],\n",
       "       [5, 6, 7, 8, 9]])"
      ]
     },
     "execution_count": 14,
     "metadata": {},
     "output_type": "execute_result"
    }
   ],
   "source": [
    "#we can convert this array into a 2D array by using \"np.reshape(arr,(m,n))\" operation, for example \n",
    "import numpy as np\n",
    "np.reshape(arr,(2,5))\n"
   ]
  },
  {
   "cell_type": "code",
   "execution_count": 15,
   "metadata": {},
   "outputs": [],
   "source": [
    "# the output shows the rearranged form of ID array [0, 1, 2, 3, 4, 5, 6, 7, 8, 9] \n",
    "# into 2D array    array  ([[0, 1, 2, 3, 4],\n",
    "#                         [5, 6, 7, 8, 9]])    "
   ]
  },
  {
   "cell_type": "markdown",
   "metadata": {},
   "source": [
    "# Answer to Qn. No 5"
   ]
  },
  {
   "cell_type": "code",
   "execution_count": 57,
   "metadata": {},
   "outputs": [],
   "source": [
    "import numpy as np\n"
   ]
  },
  {
   "cell_type": "code",
   "execution_count": 41,
   "metadata": {},
   "outputs": [],
   "source": [
    "arr1 = np.array( [[ 0, 1 ],\n",
    "                 [ 2, 3, ]] )\n",
    "arr2 = np.array( [[ 4, 5 ],\n",
    "                 [ 6, 7 ]] )"
   ]
  },
  {
   "cell_type": "code",
   "execution_count": 45,
   "metadata": {},
   "outputs": [
    {
     "data": {
      "text/plain": [
       "array([[0, 1, 4, 5],\n",
       "       [2, 3, 6, 7]])"
      ]
     },
     "execution_count": 45,
     "metadata": {},
     "output_type": "execute_result"
    }
   ],
   "source": [
    "np.vstack((arr1,arr2))\n",
    "np.hstack((arr1,arr2))"
   ]
  },
  {
   "cell_type": "code",
   "execution_count": 50,
   "metadata": {},
   "outputs": [
    {
     "name": "stdout",
     "output_type": "stream",
     "text": [
      "vspace function \n",
      " [[0 1]\n",
      " [2 3]\n",
      " [4 5]\n",
      " [6 7]] \n",
      " hspace function \n",
      " [[0 1 4 5]\n",
      " [2 3 6 7]]\n"
     ]
    }
   ],
   "source": [
    "print(\"vspace function \\n\",np.vstack((arr1,arr2)),\"\\n hspace function \\n\",\n",
    "np.hstack((arr1,arr2))\n",
    ")"
   ]
  },
  {
   "cell_type": "markdown",
   "metadata": {},
   "source": [
    "# Answer to Qn. No 6"
   ]
  },
  {
   "cell_type": "code",
   "execution_count": 56,
   "metadata": {},
   "outputs": [
    {
     "name": "stdout",
     "output_type": "stream",
     "text": [
      "Original Numpy Array :  [11 11 12 13 14 15 16 17 12 13 11 14 18]\n",
      "Unique Values :  [11 12 13 14 15 16 17 18]\n"
     ]
    }
   ],
   "source": [
    "# Get unique values in a numpy array\n",
    "arr = np.array([11, 11, 12, 13, 14, 15, 16, 17, 12, 13, 11, 14, 18])\n",
    "print('Original Numpy Array : ' , arr)\n",
    "# Get unique values from a numpy array\n",
    "uniqueValues = np.unique(arr)\n",
    "print('Unique Values : ',uniqueValues)"
   ]
  },
  {
   "cell_type": "code",
   "execution_count": null,
   "metadata": {},
   "outputs": [],
   "source": []
  }
 ],
 "metadata": {
  "kernelspec": {
   "display_name": "Python 3",
   "language": "python",
   "name": "python3"
  },
  "language_info": {
   "codemirror_mode": {
    "name": "ipython",
    "version": 3
   },
   "file_extension": ".py",
   "mimetype": "text/x-python",
   "name": "python",
   "nbconvert_exporter": "python",
   "pygments_lexer": "ipython3",
   "version": "3.8.3"
  }
 },
 "nbformat": 4,
 "nbformat_minor": 4
}
